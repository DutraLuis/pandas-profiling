{
 "cells": [
  {
   "cell_type": "code",
   "execution_count": null,
   "metadata": {},
   "outputs": [],
   "source": [
    "import pandas as pd\n",
    "import numpy as np\n",
    "import json\n",
    "from jinja2 import Environment, FileSystemLoader"
   ]
  },
  {
   "cell_type": "code",
   "execution_count": null,
   "metadata": {},
   "outputs": [],
   "source": [
    "def table_data_format(df_orig):\n",
    "    metadata = []\n",
    "    df = df_orig\n",
    "    df.replace(to_replace=[\"na\", \"?\", np.nan, \"missing\", \"not available\",\n",
    "                           \"n/a\", \"missing value\"], value=np.nan, inplace=True)\n",
    "\n",
    "    for col in df.columns:\n",
    "        df[col] = pd.to_numeric(df[col], errors='ignore')\n",
    "\n",
    "    for idx, col in enumerate(df.columns):\n",
    "        helper = {}\n",
    "        key = col\n",
    "        if len(key) > 15:\n",
    "            key = col[:15]\n",
    "\n",
    "        helper['ascend'] = 0\n",
    "        helper['name'] = key\n",
    "        if(df.dtypes[col] == \"object\"):\n",
    "            df[col].replace(to_replace=[\"na\", \"?\", np.nan, \"missing\", \"not available\",\n",
    "                                        \"n/a\", \"missing value\"], value=\"missing value\", inplace=True)\n",
    "            helper['datatype'] = 'string'\n",
    "            helper['values'] = df[col].unique().tolist()\n",
    "        elif(df.dtypes[col] == \"int64\"):\n",
    "            helper['datatype'] = 'int'\n",
    "            helper['min_val'] = df[col].min()\n",
    "            helper['max_val'] = df[col].max()\n",
    "        elif(df.dtypes[col] == \"float64\"):\n",
    "            helper['datatype'] = 'float'\n",
    "            helper['min_val'] = df[col].min()\n",
    "            helper['max_val'] = df[col].max()\n",
    "        metadata.append(helper)\n",
    "\n",
    "    df.replace(to_replace=[\"na\", \"?\", np.nan, \"missing\", \"not available\",\n",
    "                           \"n/a\", \"missing value\"], value=\"missing value\", inplace=True)\n",
    "    data_array = []\n",
    "    for row in range(df.shape[0]):\n",
    "        aux = []\n",
    "        for col in range(df.shape[1]):\n",
    "            aux.append(df.iloc[row, col])\n",
    "        data_array.append(aux)\n",
    "    return metadata, data_array"
   ]
  },
  {
   "cell_type": "code",
   "execution_count": null,
   "metadata": {},
   "outputs": [],
   "source": [
    "path = r'C:\\Users\\Luis_Dutra\\3D Objects\\datasets\\enem\\enem_2019_for_table_viz.csv'\n",
    "\n",
    "# Ler quantidade determinada de linhas do dataset\n",
    "df = pd.read_csv(path,  encoding='iso8859-1')\n",
    "\n",
    "df"
   ]
  },
  {
   "cell_type": "code",
   "execution_count": null,
   "metadata": {},
   "outputs": [],
   "source": [
    "del df['NU_INSCRICAO']"
   ]
  },
  {
   "cell_type": "code",
   "execution_count": null,
   "metadata": {},
   "outputs": [],
   "source": [
    "# Adiciona o  metadata_table_viz e dataarray_table_viz no html\n",
    "\n",
    "file_loader = FileSystemLoader(r'C:\\Users\\Luis_Dutra\\Documents\\REPOS\\pandas-profiling\\pandas_profiling\\templates')\n",
    "env = Environment(loader=file_loader)\n",
    "\n",
    "template = env.get_template(\"table.html\")\n",
    "\n",
    "keys, data_array = table_data_format(df)\n",
    "\n",
    "output = template.render(metadata_table_viz=keys, dataarray_table_viz=data_array)\n",
    "\n",
    "# C:\\pandas-profiling\\notebook\n",
    "with open(\"test_500.html\", \"w\") as result_file:\n",
    "    result_file.write(output)"
   ]
  },
  {
   "cell_type": "code",
   "execution_count": null,
   "metadata": {},
   "outputs": [],
   "source": []
  }
 ],
 "metadata": {
  "kernelspec": {
   "display_name": "Python 3",
   "language": "python",
   "name": "python3"
  },
  "language_info": {
   "codemirror_mode": {
    "name": "ipython",
    "version": 3
   },
   "file_extension": ".py",
   "mimetype": "text/x-python",
   "name": "python",
   "nbconvert_exporter": "python",
   "pygments_lexer": "ipython3",
   "version": "3.6.7rc2"
  }
 },
 "nbformat": 4,
 "nbformat_minor": 4
}
