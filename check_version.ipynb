{
 "cells": [
  {
   "cell_type": "code",
   "execution_count": 1,
   "metadata": {
    "scrolled": true
   },
   "outputs": [
    {
     "name": "stdout",
     "output_type": "stream",
     "text": [
      "Note: you may need to restart the kernel to use updated packages.Package               Version    \n",
      "--------------------- -----------\n",
      "astropy               4.0.1.post1\n",
      "attrs                 19.3.0     \n",
      "backcall              0.1.0      \n"
     ]
    },
    {
     "name": "stderr",
     "output_type": "stream",
     "text": [
      "You are using pip version 10.0.1, however version 20.3b1 is available.\n",
      "You should consider upgrading via the 'python -m pip install --upgrade pip' command.\n"
     ]
    },
    {
     "name": "stdout",
     "output_type": "stream",
     "text": [
      "\n",
      "bleach                3.1.5      \n",
      "certifi               2020.4.5.1 \n",
      "chardet               3.0.4      \n",
      "colorama              0.4.3      \n",
      "confuse               1.1.0      \n",
      "cycler                0.10.0     \n",
      "decorator             4.4.2      \n",
      "defusedxml            0.6.0      \n",
      "entrypoints           0.3        \n",
      "htmlmin               0.1.12     \n",
      "idna                  2.9        \n",
      "ImageHash             4.1.0      \n",
      "importlib-metadata    1.6.0      \n",
      "ipykernel             5.3.0      \n",
      "ipython               7.15.0     \n",
      "ipython-genutils      0.2.0      \n",
      "ipywidgets            7.5.1      \n",
      "jedi                  0.17.0     \n",
      "Jinja2                2.11.2     \n",
      "joblib                0.15.1     \n",
      "jsonschema            3.2.0      \n",
      "jupyter-client        6.1.3      \n",
      "jupyter-core          4.6.3      \n",
      "kiwisolver            1.2.0      \n",
      "llvmlite              0.32.1     \n",
      "MarkupSafe            1.1.1      \n",
      "matplotlib            3.2.1      \n",
      "missingno             0.4.2      \n",
      "mistune               0.8.4      \n",
      "nbconvert             5.6.1      \n",
      "nbformat              5.0.6      \n",
      "networkx              2.4        \n",
      "notebook              6.0.3      \n",
      "numba                 0.49.1     \n",
      "numpy                 1.18.5     \n",
      "packaging             20.4       \n",
      "pandas                1.0.4      \n",
      "pandas-profiling      2.8.0      \n",
      "pandocfilters         1.4.2      \n",
      "parso                 0.7.0      \n",
      "phik                  0.10.0     \n",
      "pickleshare           0.7.5      \n",
      "Pillow                7.1.2      \n",
      "pip                   10.0.1     \n",
      "prometheus-client     0.8.0      \n",
      "prompt-toolkit        3.0.5      \n",
      "Pygments              2.6.1      \n",
      "pyparsing             2.4.7      \n",
      "pyrsistent            0.16.0     \n",
      "python-dateutil       2.8.1      \n",
      "pytz                  2020.1     \n",
      "PyWavelets            1.1.1      \n",
      "pywin32               227        \n",
      "pywinpty              0.5.7      \n",
      "PyYAML                5.3.1      \n",
      "pyzmq                 19.0.1     \n",
      "requests              2.23.0     \n",
      "scipy                 1.4.1      \n",
      "seaborn               0.10.1     \n",
      "Send2Trash            1.5.0      \n",
      "setuptools            39.0.1     \n",
      "six                   1.15.0     \n",
      "tangled-up-in-unicode 0.0.6      \n",
      "terminado             0.8.3      \n",
      "testpath              0.4.4      \n",
      "tornado               6.0.4      \n",
      "tqdm                  4.46.1     \n",
      "traitlets             4.3.3      \n",
      "urllib3               1.25.9     \n",
      "visions               0.4.4      \n",
      "wcwidth               0.2.3      \n",
      "webencodings          0.5.1      \n",
      "widgetsnbextension    3.5.1      \n",
      "zipp                  3.1.0      \n"
     ]
    }
   ],
   "source": [
    "pip list"
   ]
  },
  {
   "cell_type": "code",
   "execution_count": null,
   "metadata": {},
   "outputs": [],
   "source": []
  }
 ],
 "metadata": {
  "kernelspec": {
   "display_name": "Python 3",
   "language": "python",
   "name": "python3"
  },
  "language_info": {
   "codemirror_mode": {
    "name": "ipython",
    "version": 3
   },
   "file_extension": ".py",
   "mimetype": "text/x-python",
   "name": "python",
   "nbconvert_exporter": "python",
   "pygments_lexer": "ipython3",
   "version": "3.6.7rc2"
  }
 },
 "nbformat": 4,
 "nbformat_minor": 4
}
