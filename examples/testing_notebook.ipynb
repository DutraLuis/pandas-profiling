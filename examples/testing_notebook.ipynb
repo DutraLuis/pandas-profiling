{
 "cells": [
  {
   "cell_type": "code",
   "execution_count": null,
   "metadata": {},
   "outputs": [],
   "source": [
    "import pandas as pd\n",
    "import pandas_profiling\n",
    "import numpy as np\n",
    "import json\n",
    "from jinja2 import Environment, FileSystemLoader"
   ]
  },
  {
   "cell_type": "code",
   "execution_count": null,
   "metadata": {},
   "outputs": [],
   "source": [
    "%%javascript\n",
    "require.config({\n",
    "paths: {\n",
    "d3: \"https://d3js.org/d3.v5.min\",\n",
    "}\n",
    "});\n",
    "\n",
    "require([\"d3\"], function(d3) {\n",
    "window.d3 = d3;\n",
    "});"
   ]
  },
  {
   "cell_type": "code",
   "execution_count": null,
   "metadata": {},
   "outputs": [],
   "source": [
    "def build_data(df):\n",
    "    count = []\n",
    "    considered_cols = []\n",
    "    last_index = 0\n",
    "    keys = {}\n",
    "\n",
    "    df.replace(to_replace=[\"na\", \"?\", np.nan, \"missing\", \"not available\",\n",
    "                           \"n/a\", \"missing value\"], value=np.nan, inplace=True)\n",
    "\n",
    "    for col in df.columns:\n",
    "        df[col] = pd.to_numeric(df[col], errors='ignore')\n",
    "\n",
    "    for col in df.columns:\n",
    "        if df[col].dtype == \"object\":\n",
    "            df[col].replace(to_replace=[\"na\", \"?\", np.nan, \"missing\", \"not available\",\n",
    "                                        \"n/a\", \"missing value\"], value=\"missing value\", inplace=True)\n",
    "            if df[col].unique().size < 25:\n",
    "                considered_cols.append(col)\n",
    "                keys[col] = {\"values\": df[col].unique().tolist(\n",
    "                ), \"start_i\": last_index, \"end_i\": last_index + df[col].unique().size}\n",
    "                last_index = last_index + df[col].unique().size\n",
    "                for item in df[col].unique():\n",
    "                    count.append([col, item])\n",
    "    data_array = np.zeros((len(count), len(count)))\n",
    "\n",
    "    for row in range(df.shape[0]):\n",
    "        for col in range(df.shape[1]):\n",
    "            for i in range(col+1, df.shape[1]):\n",
    "                if df.columns[col] in considered_cols and df.columns[i] in considered_cols:\n",
    "                    data_array[count.index([df.columns[col], df.iloc[row, col]]), count.index(\n",
    "                        [df.columns[i], df.iloc[row, i]])] += 1\n",
    "\n",
    "    data_array += np.transpose(data_array)\n",
    "    return keys, data_array.tolist()"
   ]
  },
  {
   "cell_type": "code",
   "execution_count": null,
   "metadata": {},
   "outputs": [],
   "source": [
    "def table_data_format(df_orig):\n",
    "    metadata = []\n",
    "    df = df_orig\n",
    "    df.replace(to_replace=[\"na\", \"?\", np.nan, \"missing\", \"not available\",\n",
    "                           \"n/a\", \"missing value\"], value=np.nan, inplace=True)\n",
    "\n",
    "    for col in df.columns:\n",
    "        df[col] = pd.to_numeric(df[col], errors='ignore')\n",
    "\n",
    "    for idx, col in enumerate(df.columns):\n",
    "        helper = {}\n",
    "        key = col\n",
    "        if len(key) > 15:\n",
    "            key = col[:15]\n",
    "\n",
    "        helper['ascend'] = 0\n",
    "        helper['name'] = key\n",
    "        if(df.dtypes[col] == \"object\"):\n",
    "            df[col].replace(to_replace=[\"na\", \"?\", np.nan, \"missing\", \"not available\",\n",
    "                                        \"n/a\", \"missing value\"], value=\"missing value\", inplace=True)\n",
    "            helper['datatype'] = 'string'\n",
    "            helper['values'] = df[col].unique().tolist()\n",
    "        elif(df.dtypes[col] == \"int64\"):\n",
    "            helper['datatype'] = 'int'\n",
    "            helper['min_val'] = df[col].min()\n",
    "            helper['max_val'] = df[col].max()\n",
    "        elif(df.dtypes[col] == \"float64\"):\n",
    "            helper['datatype'] = 'float'\n",
    "            helper['min_val'] = df[col].min()\n",
    "            helper['max_val'] = df[col].max()\n",
    "        metadata.append(helper)\n",
    "\n",
    "    df.replace(to_replace=[\"na\", \"?\", np.nan, \"missing\", \"not available\",\n",
    "                           \"n/a\", \"missing value\"], value=\"missing value\", inplace=True)\n",
    "    data_array = []\n",
    "    for row in range(df.shape[0]):\n",
    "        aux = []\n",
    "        for col in range(df.shape[1]):\n",
    "            aux.append(df.iloc[row, col])\n",
    "        data_array.append(aux)\n",
    "    return metadata, data_array"
   ]
  },
  {
   "cell_type": "code",
   "execution_count": null,
   "metadata": {},
   "outputs": [],
   "source": [
    "fields = [\n",
    "          'symboling','normalized-losses','make','fuel-type','aspiration','num-of-doors','body-style','drive-wheels',\n",
    "          'engine-location','wheel-base','length','width','height','curb-weight','engine-type','num-of-cylinders',\n",
    "          'engine-size','fuel-system','bore','stroke','compression-ratio','horsepower','peak-rpm','city-mpg',\n",
    "          'highway-mpg','price'\n",
    "         ]\n",
    "\n",
    "path = r'C:\\Users\\Luis_Dutra\\3D Objects\\datasets\\automobile\\automobile_data_without_id.csv'\n",
    "df = pd.read_csv(path)\n",
    "\n",
    "print('completed')"
   ]
  },
  {
   "cell_type": "code",
   "execution_count": null,
   "metadata": {},
   "outputs": [],
   "source": [
    "df = df.reset_index()\n",
    "df.drop(columns=['index'], inplace=True)\n",
    "df"
   ]
  },
  {
   "cell_type": "code",
   "execution_count": null,
   "metadata": {},
   "outputs": [],
   "source": [
    "file_loader = FileSystemLoader(\"C:\\pandas-profiling\\examples\")\n",
    "env = Environment(loader=file_loader)\n",
    "\n",
    "template = env.get_template(\"table.html\")\n",
    "\n",
    "keys, data_array = table_data_format(df)\n",
    "\n",
    "output = template.render(metadata_table_viz=keys, dataarray_table_viz=data_array)\n",
    "\n",
    "# Arquivo onde contém o 'meta_data_table_viz' e o 'data_array_table_viz'\n",
    "with open(\"test.html\", \"w\") as result_file:\n",
    "    result_file.write(output)"
   ]
  },
  {
   "cell_type": "code",
   "execution_count": null,
   "metadata": {},
   "outputs": [],
   "source": [
    "columns = [\"symboling\", \"normalized-losses\", \"make\", \"fuel-type\", \"aspiration\", \"num-of-doors\", \"body-style\", \"drive-wheels\", \"engine-location\", \"wheel-base\", \"length\", \"width\", \"height\",\n",
    "           \"curb-weight\", \"engine-type\", \"num-of-cylinders\", \"engine-size\", \"fuel-system\", \"bore\", \"stroke\", \"compression-ratio\", \"horsepower\", \"peak-rpm\", \"city-mpg\", \"highway-mpg\", \"price\"]\n",
    "\n",
    "path = r'C:\\Users\\Luis_Dutra\\3D Objects\\datasets\\automobile\\automobile_data_without_id.csv'\n",
    "df = pd.read_csv(path, names=columns)\n",
    "\n",
    "for col in df.columns:\n",
    "    df[col] = pd.to_numeric(df[col], errors='ignore')\n",
    "\n",
    "df.replace(to_replace=[\"na\", \"?\", np.nan, \"missing\", \"not available\",\"n/a\", \"missing value\"], value=np.nan, inplace=True)"
   ]
  },
  {
   "cell_type": "code",
   "execution_count": null,
   "metadata": {},
   "outputs": [],
   "source": [
    "pandas_profiling.ProfileReport(df)"
   ]
  },
  {
   "cell_type": "code",
   "execution_count": null,
   "metadata": {},
   "outputs": [],
   "source": [
    "pandas_profiling.ProfileReport(df).to_file(r'C:\\pandas-profiling\\reports\\automobile_report1.html')"
   ]
  },
  {
   "cell_type": "code",
   "execution_count": null,
   "metadata": {},
   "outputs": [],
   "source": [
    "table_data_format(df)"
   ]
  },
  {
   "cell_type": "code",
   "execution_count": null,
   "metadata": {},
   "outputs": [],
   "source": [
    "import pandas as pd\n",
    "import numpy as np\n",
    "import pandas_profiling\n",
    "\n",
    "columns = [\"symboling\",\"normalized-losses\",\"make\",\"fuel-type\",\"aspiration\",\"num-of-doors\",\n",
    "           \"body-style\",\"drive-wheels\",\"engine-location\",\"wheel-base\",\"length\",\"width\",\n",
    "           \"height\",\"curb-weight\",\"engine-type\",\"num-of-cylinders\",\"engine-size\",\n",
    "           \"fuel-system\",\"bore\",\"stroke\",\"compression-ratio\",\"horsepower\",\"peak-rpm\",\n",
    "           \"city-mpg\",\"highway-mpg\",\"price\"]\n",
    "\n",
    "path = r'C:\\Users\\Luis_Dutra\\3D Objects\\datasets\\automobile\\automobile_data_without_id.csv'\n",
    "df = pd.read_csv(path, names=columns)\n",
    "\n",
    "pandas_profiling.ProfileReport(df).to_file(r'C:\\pandas-profiling\\reports\\automobile_pandas_profiling.html')"
   ]
  },
  {
   "cell_type": "code",
   "execution_count": null,
   "metadata": {},
   "outputs": [],
   "source": []
  }
 ],
 "metadata": {
  "kernelspec": {
   "display_name": "Python 3",
   "language": "python",
   "name": "python3"
  },
  "language_info": {
   "codemirror_mode": {
    "name": "ipython",
    "version": 3
   },
   "file_extension": ".py",
   "mimetype": "text/x-python",
   "name": "python",
   "nbconvert_exporter": "python",
   "pygments_lexer": "ipython3",
   "version": "3.6.7rc2"
  }
 },
 "nbformat": 4,
 "nbformat_minor": 4
}
